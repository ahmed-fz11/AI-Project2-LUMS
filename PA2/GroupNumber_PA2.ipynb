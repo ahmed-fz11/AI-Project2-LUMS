{
 "cells": [
  {
   "attachments": {},
   "cell_type": "markdown",
   "metadata": {},
   "source": [
    "# Intro to AI (CS331): Project 2\n",
    "#### Name: \n",
    "#### Roll Number: "
   ]
  },
  {
   "cell_type": "code",
   "execution_count": 458,
   "metadata": {},
   "outputs": [],
   "source": [
    "import numpy as np\n",
    "import matplotlib.pyplot as plt\n",
    "import pylab as pl\n",
    "import pandas as pd\n",
    "from sklearn import svm, datasets\n",
    "from sklearn.preprocessing import PolynomialFeatures\n",
    "from sklearn.linear_model import LinearRegression\n",
    "from sklearn.model_selection import train_test_split"
   ]
  },
  {
   "attachments": {},
   "cell_type": "markdown",
   "metadata": {},
   "source": [
    "# Regression\n",
    "## Dataset [5 marks]"
   ]
  },
  {
   "attachments": {},
   "cell_type": "markdown",
   "metadata": {},
   "source": [
    "### Loading the Dataset\n",
    "Let's start by loading the dataset. For this part, we will use the `bike_hour.csv`. Load the daataset into a dataframe using the Pandas library."
   ]
  },
  {
   "cell_type": "code",
   "execution_count": 459,
   "metadata": {},
   "outputs": [],
   "source": [
    "# code here\n",
    "bikes_df = pd.read_csv('bike_hour.csv')"
   ]
  },
  {
   "attachments": {},
   "cell_type": "markdown",
   "metadata": {},
   "source": [
    "### Cleaning the Dataset\n",
    "Make sure there are no NaN or null values in the dataset. If there are any, remove those rows."
   ]
  },
  {
   "cell_type": "code",
   "execution_count": 460,
   "metadata": {},
   "outputs": [],
   "source": [
    "# code here\n",
    "bikes_df.dropna(inplace = True)"
   ]
  },
  {
   "attachments": {},
   "cell_type": "markdown",
   "metadata": {},
   "source": [
    "## Polynomial Regression by Least Squares [20 marks]"
   ]
  },
  {
   "attachments": {},
   "cell_type": "markdown",
   "metadata": {},
   "source": [
    "In this part, we are going to use pseudo-inverse, bias error and variance error, to find the best fit equation for our dataset. We are going to make use of the equation:\n",
    "$$\n",
    "    w = (A^TA)^{-1}A^Ty\n",
    "$$\n",
    "We already have our dataset. For this question, we are going to focus on univariate polynomial regression, so lets select on feature from our dataset that we are going to use and split it into training and test datasets."
   ]
  },
  {
   "cell_type": "code",
   "execution_count": 461,
   "metadata": {},
   "outputs": [
    {
     "data": {
      "text/plain": [
       "[<matplotlib.lines.Line2D at 0x7f079884b7f0>]"
      ]
     },
     "execution_count": 461,
     "metadata": {},
     "output_type": "execute_result"
    },
    {
     "data": {
      "image/png": "[encoded data removed]",
      "text/plain": [
       "<Figure size 640x480 with 1 Axes>"
      ]
     },
     "metadata": {},
     "output_type": "display_data"
    }
   ],
   "source": [
    "# write the code to extract the number of bikes rented and the \"atemp\" feature from the dataset.\n",
    "# Do a 70 30 split to make test and train datasets.\n",
    "\n",
    "# n = bikes_df['atemp']\n",
    "\n",
    "atemp=bikes_df[['atemp']]\n",
    "numBikes=bikes_df[['cnt']]\n",
    "\n",
    "len_train=int(0.7*len(atemp)+1)\n",
    "len_test=int(0.3*len(atemp))\n",
    "\n",
    "\n",
    "\n",
    "atemp_train=atemp[0:len_train]\n",
    "atemp_test=atemp[len_train:]\n",
    "numBikes_train=numBikes[0:len_train]\n",
    "numBikes_test=numBikes[len_train:]\n",
    "\n",
    "atemp_train=atemp_train.to_numpy()\n",
    "atemp_train=atemp_train.reshape(-1,1)\n",
    "\n",
    "\n",
    "numBikes_train=numBikes_train.to_numpy()\n",
    "numBikes_train=numBikes_train.reshape(-1,1)\n",
    "\n",
    "\n",
    "atemp_test=atemp_test.to_numpy()\n",
    "atemp_test=atemp_test.reshape(-1,1)\n",
    "\n",
    "\n",
    "numBikes_test=numBikes_test.to_numpy()\n",
    "numBikes_test=numBikes_test.reshape(-1,1)\n",
    "\n",
    "bias_list = []\n",
    "variance_list = []\n",
    "\n",
    "biased_error=[]\n",
    "theta=[]\n",
    "\n",
    "\n",
    "\n",
    "for index in range(1, 21): \n",
    "    a_matrix = np.ones((len(atemp_train), index+1)) \n",
    "    \n",
    "    y_hat = np.zeros(len(atemp_train)) \n",
    "    for x in range(index+1): \n",
    "        a_matrix[:,x:x+1]= (atemp_train**x)\n",
    "   \n",
    "    w_matrix =np.array(np.linalg.inv(a_matrix.transpose() @ a_matrix) @ a_matrix.transpose() @ numBikes_train) \n",
    "    theta.append(w_matrix)\n",
    "   \n",
    "    y_hat=y_hat.reshape(-1,1)\n",
    "    for x in range(index+1): \n",
    "        tempmat=w_matrix[x] * ( atemp_train**x )\n",
    "        y_hat += (w_matrix[x] * ( atemp_train**x ) ) \n",
    "\n",
    "    error_value=numBikes_train-y_hat \n",
    "    error_value =(error_value**2) \n",
    "    bias_list.append(error_value.sum()/(index+1) )\n",
    "\n",
    "# print(w_matrix.shape)\n",
    "# print(w_matrix)\n",
    "# print(theta)\n",
    "\n",
    "for index in range(1, 21): \n",
    "    a_matrix_test= np.ones((len(atemp_test), index+1)) \n",
    "    y_hat_test = np.zeros(len(atemp_test)) \n",
    "    for x in range(index+1): \n",
    "        a_matrix_test[:,x:x+1]= (atemp_test**x)\n",
    "    \n",
    "    w_matrix=theta[index-1]\n",
    "    y_hat_test=y_hat_test.reshape(-1,1)\n",
    "    for x in range(index+1): \n",
    "        tempmat=w_matrix[x] * ( atemp_test**x )\n",
    "        y_hat_test += (w_matrix[x] * ( atemp_test**x ) ) \n",
    "\n",
    "    variance_error_value=numBikes_test-y_hat_test \n",
    "    variance_error_value =(variance_error_value**2) \n",
    "    variance_list.append(variance_error_value.sum()/(index+1) )\n",
    "\n",
    "variance_list.reverse()\n",
    "\n",
    "\n",
    "# print(variance_list)\n",
    "M_list = list(range(1,21))\n",
    "plt.plot(M_list,bias_list,'-',color='red')\n",
    "plt.plot(M_list,variance_list,'-',color='blue')\n",
    "# # # plt.ylim(25000,30000)\n",
    "# plt.show()\n",
    "# print(bias_list)\n",
    "\n",
    "\n",
    "\n"
   ]
  },
  {
   "attachments": {},
   "cell_type": "markdown",
   "metadata": {},
   "source": [
    "Now that we have our dataset, use it to make a graph of variance loss (test loss) and bias loss (training loss), using the equation given above. Do this for polynomials 1: ($y = a+bx$) till 20 ($y = a+  bx + cx^2 + ... + ux^{20}$) The reuslting graph you get should resemeble the one shown in the manual."
   ]
  },
  {
   "cell_type": "code",
   "execution_count": 462,
   "metadata": {},
   "outputs": [],
   "source": [
    "# code here"
   ]
  },
  {
   "attachments": {},
   "cell_type": "markdown",
   "metadata": {},
   "source": [
    "QUESTION: Which polynomial is most optimal to use for this dataset? Explain your choice and mention both bias and variance losses for this polynomial. "
   ]
  },
  {
   "attachments": {},
   "cell_type": "markdown",
   "metadata": {},
   "source": [
    "### ANSWER here:\n"
   ]
  },
  {
   "attachments": {},
   "cell_type": "markdown",
   "metadata": {},
   "source": [
    "## Linear Regression by Gradient Descent [15 marks]\n",
    "You are now going to implement linear regression using gradient descent. Unlike in the above part, your regression is now linerar but should work for any number of variables (multivariate liner regression). For this part, start by using the complete dataframe with all teh features instead of just one feature, as we did in the above part. "
   ]
  },
  {
   "cell_type": "code",
   "execution_count": 463,
   "metadata": {},
   "outputs": [],
   "source": [
    "# if you need to load the complete dataframe again or call it again, do so here"
   ]
  },
  {
   "attachments": {},
   "cell_type": "markdown",
   "metadata": {},
   "source": [
    "Let us start by removing any features (columns), which will not be useful for us. From the complete dataframe, remove the columns that you think are not going to be useful for regression. In the markdown cell, **EXPLAIN  your choice** behind removing the columns that you did."
   ]
  },
  {
   "cell_type": "code",
   "execution_count": 464,
   "metadata": {},
   "outputs": [
    {
     "name": "stdout",
     "output_type": "stream",
     "text": [
      "       season  yr  mnth  hr  temp   atemp  casual  registered  cnt\n",
      "0           1   0     1   0  0.24  0.2879       3          13   16\n",
      "1           1   0     1   1  0.22  0.2727       8          32   40\n",
      "2           1   0     1   2  0.22  0.2727       5          27   32\n",
      "3           1   0     1   3  0.24  0.2879       3          10   13\n",
      "4           1   0     1   4  0.24  0.2879       0           1    1\n",
      "...       ...  ..   ...  ..   ...     ...     ...         ...  ...\n",
      "17374       1   1    12  19  0.26  0.2576      11         108  119\n",
      "17375       1   1    12  20  0.26  0.2576       8          81   89\n",
      "17376       1   1    12  21  0.26  0.2576       7          83   90\n",
      "17377       1   1    12  22  0.26  0.2727      13          48   61\n",
      "17378       1   1    12  23  0.26  0.2727      12          37   49\n",
      "\n",
      "[17379 rows x 9 columns]\n"
     ]
    }
   ],
   "source": [
    "bikes_df.dropna(inplace = True)\n",
    "\n",
    "bikes_df=bikes_df.drop([\"dteday\",\"holiday\",\"weekday\",\"workingday\",\"weathersit\",\"hum\",\"windspeed\",\"instant\"],axis=1)\n",
    "y_values=bikes_df[['cnt']]\n",
    "# bikes_df=bikes_df[[\"atemp\",\"casual\",\"registered\"]]\n",
    "print(bikes_df)\n",
    "\n",
    "bikes_df=bikes_df.drop([\"cnt\"],axis=1)"
   ]
  },
  {
   "attachments": {},
   "cell_type": "markdown",
   "metadata": {},
   "source": [
    "#### ANSWER here: we computed correlations coefficients. those features that had negligible correlation are removed"
   ]
  },
  {
   "attachments": {},
   "cell_type": "markdown",
   "metadata": {},
   "source": [
    "### Splitting the dataset\n",
    "Similar to as you already did, make an 70 30 split to divide the dataset into training and test dataset. If you want, you can use inbuilt libraries for this.\n",
    "Also divide the datasets into features and labels, which will results in 4 variables: X_train, Y_train, X_test, Y_test (you can use different names if you want)"
   ]
  },
  {
   "cell_type": "code",
   "execution_count": 465,
   "metadata": {},
   "outputs": [],
   "source": [
    "# code here\n",
    "\n",
    "# training_data_length=int(len(bikes_df)*0.7 + 1)\n",
    "\n",
    "# X_train=bikes_df[:,0:training_data_length]\n",
    "# X_test=bikes_df[:,training_data_length:]\n",
    "# Y_train=y_values[:,0:training_data_length]\n",
    "# Y_test=y_values[:,training_data_length:]\n",
    "\n",
    "len_train=int(0.7*len(bikes_df)+1)\n",
    "len_test=int(0.3*len(bikes_df))\n",
    "\n",
    "\n",
    "\n",
    "X_train=bikes_df[0:len_train]\n",
    "X_test=bikes_df[len_train:]\n",
    "Y_train=y_values[0:len_train]\n",
    "Y_test=y_values[len_train:]\n",
    "# print(X_train)\n",
    "\n",
    "X_train=X_train.to_numpy()\n",
    "X_test=X_test.to_numpy()\n",
    "Y_train=Y_train.to_numpy()\n",
    "Y_test=Y_test.to_numpy()\n",
    "\n",
    "\n",
    "\n",
    "\n",
    "\n",
    "\n",
    "\n",
    "\n",
    "\n",
    "\n",
    "\n",
    "\n",
    "# print(X_train)\n",
    "# print(X_test)\n",
    "# print(Y_train)\n",
    "# print(Y_test)\n",
    "\n",
    "\n"
   ]
  },
  {
   "attachments": {},
   "cell_type": "markdown",
   "metadata": {},
   "source": [
    "### Gradient Descent\n",
    "Complete the following functions to run linear regression. \"y_pred\" represents the array of predicted target values that we will get while \"y_true\" represents the array of labels that we are already provided with."
   ]
  },
  {
   "cell_type": "code",
   "execution_count": 466,
   "metadata": {},
   "outputs": [],
   "source": [
    "### Gradient Descent\n",
    "from decimal import Decimal \n",
    "#Complete the following functions to run linear regression. \"y_pred\" represents the array of predicted target values that we will get while \"y_true\" represents the array of labels that we are already provided with.\n",
    "def mean_squared_error(y_pred, y_true): # y_pred is the array of the values we get after we multiply weights with the attributes ( h(x) ), and y_true is an array of true labels\n",
    "\n",
    "    error = y_true-y_pred\n",
    "\n",
    "    sum_error_square=0\n",
    "\n",
    "    for i in range(len(error)):\n",
    "        sum_error_square+=(error[i]**2)\n",
    "\n",
    "    mse=0.0\n",
    "\n",
    "    mse=(sum_error_square)/len(error)\n",
    "    \n",
    "    \n",
    "    # mse = np.square(np.subtract(y_true,y_pred)).mean()\n",
    "\n",
    "    return mse\n",
    "\n",
    "    \n",
    "\n",
    "\n",
    "def gradient_des(x, thetas, y_pred, y_true, alpha):\n",
    "    \n",
    "    n = len(thetas)\n",
    "    \n",
    "    \n",
    "    error = y_true-y_pred #L(x)   LOSS FUNCTION\n",
    "    \n",
    "    f_array=[0, 0, 0, 0, 0, 0, 0, 0, 0]\n",
    "    delta_error = np.array(f_array)\n",
    "    delta_error = delta_error.T\n",
    "    \n",
    "    delta_error=delta_error.reshape(-1,1)\n",
    "\n",
    "    for i in range(len(thetas)):\n",
    "        delta_error[i] = -x[:,i].T @ error\n",
    "    \n",
    "    next_theta = thetas\n",
    "    \n",
    "    for i in range(len(thetas)):\n",
    "        next_theta[i] = thetas[i] - (alpha * delta_error[i])\n",
    "    \n",
    "    \n",
    "    new_loss=mean_squared_error(y_pred,y_true) / len(x)\n",
    "    # print(\"new_loss\")\n",
    "    # print(new_loss)\n",
    "    \n",
    "    return next_theta,new_loss\n",
    "    # code here and return both thetas and the losses\n",
    "    # returning both is important for visualising the losses"
   ]
  },
  {
   "attachments": {},
   "cell_type": "markdown",
   "metadata": {},
   "source": [
    "### Regression\n",
    "For the specified number of epochs, run the regression and store the losses and corresponding thetas for each epoch"
   ]
  },
  {
   "cell_type": "code",
   "execution_count": 467,
   "metadata": {},
   "outputs": [
    {
     "name": "stderr",
     "output_type": "stream",
     "text": [
      "/tmp/ipykernel_12185/482475582.py:39: RuntimeWarning: invalid value encountered in cast\n",
      "  delta_error[i] = -x[:,i].T @ error\n"
     ]
    }
   ],
   "source": [
    "\n",
    "epochs = 100  # you are free to play around with this number\n",
    "theta = ... # initialize an np array of zeros based on the shape of the training sample\n",
    "\n",
    "ones_coloumn=np.ones((len(X_train),1))\n",
    "\n",
    "X_train=np.hstack((ones_coloumn,X_train))\n",
    "\n",
    "\n",
    "theta=np.zeros((len(X_train[0]),1))\n",
    "\n",
    "# print(theta.shape)\n",
    "\n",
    "learning_rate = 0.1\n",
    "\n",
    "losses = []\n",
    "# print(theta.shape)\n",
    "\n",
    "\n",
    "# code here\n",
    "for i in range(epochs):\n",
    "    y_pred= np.dot(X_train,theta) #change to for loop\n",
    "    \n",
    "    # if( i == (25)):\n",
    "    #     print(\"\\n\\n\\n\\n\")\n",
    "    #     print(y_pred[0])\n",
    "    #     print(Y_train[0])\n",
    "        # break\n",
    "    theta,loss = gradient_des(X_train,theta,y_pred,Y_train,learning_rate)\n",
    "    # print(\"theta\",theta)\n",
    "    losses.append(loss)\n",
    "    # break\n",
    "losses.reverse()\n",
    "    \n"
   ]
  },
  {
   "attachments": {},
   "cell_type": "markdown",
   "metadata": {},
   "source": [
    "### Visualizing the losses\n",
    "You can run the following cell to see how your losses change with each epoch."
   ]
  },
  {
   "cell_type": "code",
   "execution_count": 468,
   "metadata": {},
   "outputs": [
    {
     "data": {
      "image/png": "[encoded data removed]",
      "text/plain": [
       "<Figure size 640x480 with 1 Axes>"
      ]
     },
     "metadata": {},
     "output_type": "display_data"
    }
   ],
   "source": [
    "\n",
    "plt.plot(list(range(len(losses))), losses)\n",
    "plt.title(\"Loss Plot\")\n",
    "plt.xlabel(\"Epochs\")\n",
    "plt.ylabel(\"MSE Loss\")\n",
    "plt.show()\n",
    "\n"
   ]
  },
  {
   "attachments": {},
   "cell_type": "markdown",
   "metadata": {},
   "source": [
    "### Testing the model\n",
    "Now use the final thetas that you got to find the accuracy of the regressor on our test dataset."
   ]
  },
  {
   "cell_type": "code",
   "execution_count": 469,
   "metadata": {},
   "outputs": [],
   "source": [
    "# code here"
   ]
  },
  {
   "attachments": {},
   "cell_type": "markdown",
   "metadata": {},
   "source": [
    "# LOGISTIC REGRESSION"
   ]
  },
  {
   "attachments": {},
   "cell_type": "markdown",
   "metadata": {},
   "source": [
    "## Dataset [5 marks]\n",
    "For this part, we will use the iris dataset provided by sklearn. The dataset library has already been imported in first cell. Use this library to import the iris dataset along with its labels. "
   ]
  },
  {
   "cell_type": "code",
   "execution_count": 470,
   "metadata": {},
   "outputs": [],
   "source": [
    "# code here\n",
    "from sklearn import datasets\n",
    "\n",
    "iris=datasets.load_iris()\n",
    "# print(iris)\n",
    "# print(iris.data[0])\n",
    "# print(iris.target.shape)\n",
    "# print(iris.target)\n",
    "\n",
    "iris_data=iris.data\n",
    "iris_labels=iris.target"
   ]
  },
  {
   "attachments": {},
   "cell_type": "markdown",
   "metadata": {},
   "source": [
    "### Splitting and changing the dataset\n",
    "There are two tasks that you have to perform in this task:\n",
    "1. This dataset contains 3 classes of iris. Irir setosa is linearly seperable from the other two. In you target (labels) array, you have three label values: 0, 1 and 2. Using the information given in the iris dataset, identify which one of these represents Iris Setosa and chage your target values such that instead of having 3 label values, you only have two, where 0 would represent the class Iris Setosa while 1 would mean that the class is not Iris Setosa. \n",
    "2. Now that we have the features and the labels extracted, once again make test and train datasets for logistic regression using a 70 30 split. Make sure that the data is properly shuffled."
   ]
  },
  {
   "cell_type": "code",
   "execution_count": 471,
   "metadata": {},
   "outputs": [],
   "source": [
    "# code here\n",
    "# x_train, x_test, y_train, y_test = train_test_split(iris_data, iris_labels, test_size=0.3, random_state=42, stratify=iris_labels)\n",
    "\n",
    "# y_train=np.array(y_train)\n",
    "# x_train=np.array(x_train)\n",
    "\n",
    "import random\n",
    "\n",
    "for i in range(len(iris_labels)):\n",
    "    if(iris_labels[i]!=0):\n",
    "        iris_labels[i]=1\n",
    "\n",
    "zeros=[]\n",
    "ones=[]\n",
    "for i in range(len(iris_labels)):\n",
    "    if(iris_labels[i]==0):\n",
    "        zeros.append(iris_data[i])\n",
    "    else:\n",
    "        ones.append(iris_data[i])\n",
    "\n",
    "# print(len(zeros))\n",
    "# print(len(ones))\n",
    "\n",
    "random.shuffle(zeros)\n",
    "random.shuffle(ones)\n",
    "\n",
    "x_train=zeros[:35]\n",
    "x_train.extend(ones[:70])\n",
    "\n",
    "# print(len(x_train))\n",
    "\n",
    "y_train=np.zeros((len(zeros[:35])))\n",
    "y_train=np.hstack((y_train,np.ones( (len(ones[:70]) ) ) ))\n",
    "\n",
    "x_test=zeros[35:]\n",
    "x_test.extend(ones[70:])\n",
    "\n",
    "y_test=np.zeros((len(zeros[35:])))\n",
    "y_test=np.hstack((y_test,np.ones( (len(ones[70:]) ) ) ))\n",
    "\n",
    "# print(len(x_train))\n",
    "y_train=np.array(y_train)\n",
    "x_train=np.array(x_train)\n",
    "\n",
    "y_test=np.array(y_test)\n",
    "x_test=np.array(x_test)\n",
    "\n",
    "y_train=y_train.reshape(-1,1)\n",
    "\n",
    "y_test=y_test.reshape(-1,1)\n",
    "\n",
    "# print(y_test.shape)\n",
    "# print(y_train.shape)\n",
    "\n",
    "# print(\"xtest\",x_test.shape)\n",
    "# print(\"xtrain\",x_train.shape)\n",
    "# print(iris_labels)\n"
   ]
  },
  {
   "attachments": {},
   "cell_type": "markdown",
   "metadata": {},
   "source": [
    "## Logistic Regression by Scratch [15 marks]\n",
    "We are now going to perform logistic regression by scratch on our training dataset. Complete the following functions."
   ]
  },
  {
   "cell_type": "code",
   "execution_count": 472,
   "metadata": {},
   "outputs": [],
   "source": [
    "def binary_cross_entropy_loss(y_pred, y_true):\n",
    "    # code here\n",
    "    \n",
    "    a = np.dot(y_true.T,np.log(y_pred))\n",
    "    b = np.dot((1-y_true).T,np.log(1-y_pred))\n",
    "    # print('a',a)\n",
    "    # print('b',b)\n",
    "    error = -(a+b)\n",
    "    # m = y_true.shape[0]\n",
    "    return error\n",
    "    \n",
    "\n",
    "\n",
    "def sigmoid(x):\n",
    "    # code here\n",
    "    return 1/(1+np.exp(-x))\n",
    "\n",
    "\n",
    "def gradient_des(x, thetas, h_x, y, alpha):\n",
    "    m = x.shape[0]\n",
    "    # print(\"x.T.shape\",x.T.shape)\n",
    "    # print(\"(h_x-y).shape\",(h_x-y).shape)\n",
    "    gradient = (1/m)*np.dot(x.T,(h_x-y))\n",
    "    thetas = thetas - alpha*gradient\n",
    "    # print(h_x)\n",
    "    loss = binary_cross_entropy_loss(h_x,y)\n",
    "    # print(\"LOSS\",loss)\n",
    "    return thetas,loss\n",
    "    # code here and return both thetas and the losses\n",
    "    # returning both is important for visualising the losses\n"
   ]
  },
  {
   "attachments": {},
   "cell_type": "markdown",
   "metadata": {},
   "source": [
    "### Logistic Regression\n",
    "For the specified number of epochs, run the logistic regression and store the losses and corresponding thetas for each epoch"
   ]
  },
  {
   "cell_type": "code",
   "execution_count": 473,
   "metadata": {},
   "outputs": [],
   "source": [
    "epochs = 100  # you are free to play around with this number\n",
    "theta =  ... # initialize an np array of zeros based on the shape of the training sample\n",
    "theta = np.zeros((x_train.shape[1], 1))\n",
    "\n",
    "losses = []\n",
    "alpha=0.2\n",
    "# print(x_train.shape)\n",
    "# print(y_train.shape)\n",
    "# print(x_train)\n",
    "for i in range(epochs):\n",
    "    h_x = sigmoid(np.dot(x_train,theta))\n",
    "    # print(\"h_x shape:\",h_x.shape)\n",
    "    # print(h_x)\n",
    "    theta,loss = gradient_des(x_train,theta,h_x,y_train,alpha)\n",
    "    # loss=np.sum(loss)/len(losses)\n",
    "    losses.extend(loss)\n",
    "# code here\n",
    "# print(losses)   \n"
   ]
  },
  {
   "cell_type": "markdown",
   "metadata": {},
   "source": [
    "### Visualizing the losses\n",
    "You can run the following cell to see how your losses change with each epoch."
   ]
  },
  {
   "cell_type": "code",
   "execution_count": 474,
   "metadata": {},
   "outputs": [
    {
     "data": {
      "image/png": "[encoded data removed]",
      "text/plain": [
       "<Figure size 640x480 with 1 Axes>"
      ]
     },
     "metadata": {},
     "output_type": "display_data"
    }
   ],
   "source": [
    "# print(losses)\n",
    "plt.plot(list(range(len(losses))), losses)\n",
    "plt.title(\"Loss against Epochs\")\n",
    "plt.xlabel(\"Epochs\")\n",
    "plt.ylabel(\"Cross Entropy Loss\")\n",
    "plt.show()"
   ]
  },
  {
   "attachments": {},
   "cell_type": "markdown",
   "metadata": {},
   "source": [
    "## K-Fold Cross Validation [15 marks]\n",
    "As you might have noticed, our iris training set is not that big (with only 105 values). To make our model perform better, we are going to implement k-fold cross-validation.\n",
    "\n",
    "In k cross-validation, you divide your training set into k parts and use k-1 of them for training, while one part is used for validation. We then rerun this k times, where each time, a different part from the total of k parts is used for validation. Note that the test data set still remains completely seperate.\n",
    "\n",
    "This will result in you having k different weights (one for each fold). In the end, take na average of all the weights and those will be your final weights."
   ]
  },
  {
   "cell_type": "code",
   "execution_count": 475,
   "metadata": {},
   "outputs": [
    {
     "name": "stdout",
     "output_type": "stream",
     "text": [
      "losses: [83.17766166719346, 82.73230324128642, 82.29914340158263, 81.87781177163424, 81.46794794021847, 81.06920133714071, 80.68123109676718, 80.30370591075032, 79.9363038713193, 79.57871230641791, 79.2306276078843, 78.89175505378195, 78.56180862590877, 78.24051082343223, 77.92759247352268, 77.622792539784, 77.32585792921327, 77.0365432983543, 76.7546108592503, 76.47983018574081, 76.2119780205959, 75.95083808392812, 75.69620088327562, 75.44786352570631, 75.20562953225037, 74.96930865493206, 74.73871669663518, 74.51367533400474, 74.29401194355765, 74.07955943114753, 73.87015606490385, 73.66564531174285, 73.46587567752664, 73.27070055092837, 73.07997805104394, 72.89357087877504, 72.71134617199559, 72.53317536449968, 72.35893404871884, 72.18850184218721, 72.0217622577225, 71.85860257728541, 71.69891372947127, 71.54259017058321, 71.38952976923038, 71.23963369439088, 71.09280630687479, 70.94895505412055, 70.80799036825434, 70.66982556734105, 70.53437675975343, 70.40156275158479, 70.27130495703003, 70.1435273116594, 70.01815618850887, 69.89512031691133, 69.77435070399326, 69.6557805587617, 69.53934521870723, 69.42498207884975, 69.31263052315427, 69.2022318582456, 69.09372924935165, 68.9870676584066, 68.88219378424625, 68.77905600482956, 68.67760432142168, 68.57779030467557, 68.4795670425499, 68.38288909000407, 68.28771242041094, 68.19399437863096, 68.10169363569169, 68.0107701450194, 67.92118510016985, 67.8329008940079, 67.74588107928639, 67.66009033057638, 67.57549440750277, 67.49206011924001, 67.40975529022458, 67.3285487270421, 67.24841018644827, 67.1693103444843, 67.0912207666486, 67.01411387908786, 66.93796294077202, 66.86274201661843, 66.78842595153212, 66.7149903453301, 66.64241152851827, 66.57066653889153, 66.49973309892756, 66.42958959394687, 66.36021505101172, 66.29158911853821, 66.22369204659634, 66.15650466787379, 66.09000837928005, 66.02418512416853]\n",
      "thetas: [0.0008621874999999999, 0.0017116641327223252, 0.0025486254275492704, 0.003373265364799465, 0.004185776266482736, 0.0049863486965287425, 0.0057751713700629126, 0.006552431071304212, 0.007318312579662442, 0.008072998603618008, 0.008816669721973936, 0.009549504332078265, 0.010271678604624548, 0.010983366444648769, 0.011684739458352416, 0.012375966925393578, 0.01305721577630048, 0.013728650574674943, 0.014390433503866396, 0.015042724357810407, 0.015685680535739217, 0.016319457040484955, 0.016944206480109525, 0.017560079072608217, 0.0181672226534468, 0.018765782685704505, 0.01935590227260743, 0.019937722172248696, 0.02051138081430345, 0.021077014318557418, 0.02163475651507893, 0.0221847389658742, 0.022727090987875707, 0.02326193967712296, 0.02378940993400377, 0.024309624489432996, 0.024822703931853714, 0.025328766734953684, 0.025827929285997246, 0.02632030591467997, 0.026806008922419754, 0.027285148612004668, 0.027757833317523455, 0.02822416943451038, 0.02868426145024133, 0.029138211974123036, 0.029586121768121858, 0.03002808977718316, 0.030464213159596187, 0.030894587317263297, 0.03131930592583608, 0.03173846096468415, 0.032152142746665564, 0.032560439947670924, 0.03296343963591566, 0.03336122730095795, 0.03375388688242174, 0.03414150079840669, 0.034524149973569215, 0.03490191386686001, 0.035274870498906055, 0.035643096479026165, 0.03600666703187078, 0.036365656023678285, 0.036720135988141306, 0.037070178151877596, 0.03741585245950134, 0.037757227598291594, 0.0380943710224557, 0.03842734897698611, 0.038756226521110056, 0.03908106755133213, 0.03940193482407057, 0.03971888997788833, 0.04003199355532115, 0.04034130502430472, 0.04064688279920378, 0.04094878426144645, 0.04124706577976721, 0.04154178273006248, 0.04183298951486301, 0.0421207395824273, 0.04240508544546087, 0.04268607869946621, 0.0429637700407282, 0.0432382092839404, 0.04350944537947737, 0.04377752643031829, 0.0440424997086276, 0.044304411671997855, 0.04456330797936073, 0.044819233506571486, 0.04507223236167278, 0.04532234789984329, 0.04556962273803697, 0.045814098769318544, 0.0460558171769008, 0.04629481844788949, 0.046531142386741164, 0.046764828128439746]\n"
     ]
    }
   ],
   "source": [
    "from sklearn.model_selection import KFold\n",
    "# print(iris.data.shape)\n",
    "\n",
    "k = 5 # we are going to keep k as 5 for this example but your code should not hardocde this value\n",
    "# code here the k-fold cross validation for the iris training dataset\n",
    "k_data=KFold(n_splits=k,shuffle=True)\n",
    "# print(\"K_DATA:\",k_data)\n",
    "for train_i,test_i in k_data.split(iris_data):\n",
    "    # print(t_i)\n",
    "    # print(te_i)\n",
    "    x_train=[]\n",
    "    y_train=[]\n",
    "\n",
    "    x_test=[]\n",
    "    y_test=[]\n",
    "\n",
    "    for i in train_i:\n",
    "        x_train.append(iris_data[i])\n",
    "        y_train.append(iris_labels[i])\n",
    "\n",
    "    for j in test_i:\n",
    "        x_test.append(iris_data[j])\n",
    "        y_test.append(iris_labels[j])\n",
    "    \n",
    "    x_test=np.array(x_test)\n",
    "    x_train=np.array(x_train)\n",
    "\n",
    "    y_test=np.array(y_test)\n",
    "    y_train=np.array(y_train)\n",
    "\n",
    "    y_test=y_test.reshape(-1,1)\n",
    "    y_train=y_train.reshape(-1,1)\n",
    "\n",
    "    epochs = 100  # you are free to play around with this number\n",
    "    theta =  ... # initialize an np array of zeros based on the shape of the training sample\n",
    "    theta = np.zeros((x_train.shape[1], 1))\n",
    "    \n",
    "    losses = []\n",
    "    thetas=[]\n",
    "    alpha=0.001\n",
    "    sum=0\n",
    "\n",
    "    for i in range(epochs):\n",
    "        h_x = sigmoid(np.dot(x_train,theta))\n",
    "        theta,loss = gradient_des(x_train,theta,h_x,y_train,alpha)\n",
    "        \n",
    "        losses.extend(loss[0])\n",
    "        \n",
    "        sum=np.sum(theta)/len(theta)\n",
    "\n",
    "        thetas.append(sum)\n",
    "\n",
    "print(\"losses:\",losses)\n",
    "print(\"thetas:\",thetas)\n",
    "\n",
    "\n",
    "    \n",
    "\n",
    "\n",
    "    "
   ]
  },
  {
   "attachments": {},
   "cell_type": "markdown",
   "metadata": {},
   "source": [
    "Use the final averaged weights on the test data and report the Binary Cross Entroly Loss."
   ]
  },
  {
   "cell_type": "code",
   "execution_count": 476,
   "metadata": {},
   "outputs": [],
   "source": [
    "# code here"
   ]
  },
  {
   "attachments": {},
   "cell_type": "markdown",
   "metadata": {},
   "source": [
    "### Question: \n",
    "Did the cross-validation help in making the model better? Why or why not?\n",
    "\n",
    "### ANSWER here:\n"
   ]
  },
  {
   "attachments": {},
   "cell_type": "markdown",
   "metadata": {},
   "source": [
    "## Logistic Regression using Libraries [5 marks]"
   ]
  },
  {
   "cell_type": "code",
   "execution_count": 477,
   "metadata": {},
   "outputs": [],
   "source": [
    "import sklearn.linear_model as sl\n",
    "from sklearn.metrics import log_loss"
   ]
  },
  {
   "attachments": {},
   "cell_type": "markdown",
   "metadata": {},
   "source": [
    "Now use the above provided libraries to implement [Logistic Regression](https://scikit-learn.org/stable/modules/generated/sklearn.linear_model.LogisticRegression.html) and use the [Cross Entropy Loss](https://scikit-learn.org/stable/modules/generated/sklearn.metrics.log_loss.html) to report loss on the test dataset. "
   ]
  },
  {
   "cell_type": "code",
   "execution_count": 478,
   "metadata": {},
   "outputs": [
    {
     "name": "stdout",
     "output_type": "stream",
     "text": [
      "2.2204460492503136e-16\n"
     ]
    },
    {
     "name": "stderr",
     "output_type": "stream",
     "text": [
      "/home/dell/.local/lib/python3.10/site-packages/sklearn/utils/validation.py:1143: DataConversionWarning: A column-vector y was passed when a 1d array was expected. Please change the shape of y to (n_samples, ), for example using ravel().\n",
      "  y = column_or_1d(y, warn=True)\n"
     ]
    }
   ],
   "source": [
    "# code here\n",
    "regr = sl.LogisticRegression()\n",
    "regr.fit(x_train,y_train)\n",
    "\n",
    "y_hat_test = regr.predict(x_test)\n",
    "# print(y_hat_test)\n",
    "\n",
    "loss = log_loss(y_test,y_hat_test)\n",
    "# loss = binary_cross_entropy_loss(sigmoid(y_hat_test),y_test)\n",
    "print(loss)"
   ]
  },
  {
   "attachments": {},
   "cell_type": "markdown",
   "metadata": {},
   "source": [
    "# SVMs [20 marks]"
   ]
  },
  {
   "attachments": {},
   "cell_type": "markdown",
   "metadata": {},
   "source": [
    "We are now going to use the SVM library by sklearn on the iris dataset we used for logistic regression. You can either use the same variables, or make a new cell here and import the datset again. However, for the SVM classifier, we are going to extract only the first two features, `Sepal length` and `Sepal width`. "
   ]
  },
  {
   "cell_type": "code",
   "execution_count": 479,
   "metadata": {},
   "outputs": [],
   "source": [
    "# code here to get the iris datset with labels and only the first two features (\"Sepal length\" and \"Sepal width\")\n",
    "from sklearn import svm\n",
    "\n",
    "\n",
    "iris = datasets.load_iris()\n",
    "x = iris.data[:,:2]\n",
    "y = iris.target\n",
    "\n",
    "x_train, x_test, y_train, y_test = train_test_split(x, y, test_size = 0.30,random_state=42)\n",
    "# print(x)\n",
    "# print(y)\n"
   ]
  },
  {
   "attachments": {},
   "cell_type": "markdown",
   "metadata": {},
   "source": [
    "## Training and Visualisation\n",
    "Train the SVM using the iris dataset and make a plot similar to the one shown in the manual. To make the plot, you are going to have to look into the following functions:\n",
    "- np.meshgrid\n",
    "- plt.scatter\n",
    "- plt.contourf\n",
    "\n",
    "However, you are free to use any functions and libraries that you want to use.\n",
    "\n",
    "Make three different plits for the following three kernels of SVMs: linear, poly, and rbf.\n",
    "You are free to play around with SVM parameters like C (regulization parameter) and gamma."
   ]
  },
  {
   "cell_type": "code",
   "execution_count": 480,
   "metadata": {},
   "outputs": [
    {
     "name": "stdout",
     "output_type": "stream",
     "text": [
      "0.8222222222222222\n",
      "0.8222222222222222\n",
      "0.8222222222222222\n"
     ]
    },
    {
     "name": "stderr",
     "output_type": "stream",
     "text": [
      "/tmp/ipykernel_12185/1440657402.py:49: UserWarning: No data for colormapping provided via 'c'. Parameters 'cmap' will be ignored\n",
      "  axes[2].scatter(x[idx, 0], x[idx, 1], c=color, label=y[i],\n",
      "/tmp/ipykernel_12185/1440657402.py:57: UserWarning: No data for colormapping provided via 'c'. Parameters 'cmap' will be ignored\n",
      "  axes[0].scatter(x[idx, 0], x[idx, 1], c=color, label=y[i],\n",
      "/tmp/ipykernel_12185/1440657402.py:66: UserWarning: No data for colormapping provided via 'c'. Parameters 'cmap' will be ignored\n",
      "  axes[1].scatter(x[idx, 0], x[idx, 1], c=color, label=y[i],\n"
     ]
    },
    {
     "data": {
      "image/png": "[encoded data removed]",
      "text/plain": [
       "<Figure size 250x800 with 3 Axes>"
      ]
     },
     "metadata": {},
     "output_type": "display_data"
    }
   ],
   "source": [
    "kernels = [\"linear\", \"poly\", \"rbf\"]\n",
    "# code here\n",
    "'''\n",
    "1. Use the dataset to train the SVM\n",
    "2. Create a mesh\n",
    "3. Get the predicted values\n",
    "4. Plot the graph\n",
    "'''\n",
    "Linear_SVM = svm.SVC(kernel=\"linear\",C=0.2)\n",
    "\n",
    "Poly_SVM = svm.SVC(kernel='poly', degree=4, C=1)\n",
    "\n",
    "RBF_SVM = svm.SVC(kernel='rbf', gamma=0.7, C=1) \n",
    "\n",
    "RBF_SVM.fit(x,y)\n",
    "Linear_SVM.fit(x,y)\n",
    "Poly_SVM.fit(x,y)\n",
    "\n",
    "print(RBF_SVM.score(x_test,y_test))\n",
    "print(Linear_SVM.score(x_test,y_test))\n",
    "print(Poly_SVM.score(x_test,y_test))\n",
    "\n",
    "h=0.02\n",
    "colors=\"byr\"\n",
    "\n",
    "x_min, x_max = x[:, 0].min() - 1, x[:, 0].max() + 1\n",
    "y_min, y_max = x[:, 1].min() - 1, x[:, 1].max() + 1\n",
    "xx, yy = np.meshgrid(np.arange(x_min, x_max, h),np.arange(y_min, y_max, h))\n",
    "\n",
    "\n",
    "Z = RBF_SVM.predict(np.c_[xx.ravel(), yy.ravel()])\n",
    "X=Linear_SVM.predict(np.c_[xx.ravel(), yy.ravel()])\n",
    "Y=Poly_SVM.predict(np.c_[xx.ravel(), yy.ravel()])\n",
    "\n",
    "\n",
    "\n",
    "# Put the result into a color plot\n",
    "Z = Z.reshape(xx.shape)\n",
    "X = X.reshape(xx.shape)\n",
    "Y = Y.reshape(xx.shape)\n",
    "\n",
    "\n",
    "\n",
    "fig,axes = plt.subplots(nrows=3, ncols=1, figsize=(2.5, 8))\n",
    "\n",
    "axes[2].contourf(xx, yy, Z, cmap=plt.cm.coolwarm)\n",
    "for i, color in zip(Poly_SVM.classes_, colors):\n",
    "    idx = np.where(y == i)\n",
    "    axes[2].scatter(x[idx, 0], x[idx, 1], c=color, label=y[i],\n",
    "                cmap=plt.cm.coolwarm,edgecolors=\"k\")\n",
    "axes[2].set_title(\"RBF SVM\")\n",
    "\n",
    "axes[0].contourf(xx, yy, X, cmap=plt.cm.coolwarm)\n",
    "\n",
    "for i, color in zip(Linear_SVM.classes_, colors):\n",
    "    idx = np.where(y == i)\n",
    "    axes[0].scatter(x[idx, 0], x[idx, 1], c=color, label=y[i],\n",
    "                cmap=plt.cm.coolwarm, edgecolors=\"k\")\n",
    "    \n",
    "axes[0].set_title(\"Linear SVM\")\n",
    "\n",
    "axes[1].contourf(xx, yy, Y, cmap=plt.cm.coolwarm)\n",
    "\n",
    "for i, color in zip(Poly_SVM.classes_, colors):\n",
    "    idx = np.where(y == i)\n",
    "    axes[1].scatter(x[idx, 0], x[idx, 1], c=color, label=y[i],\n",
    "                cmap=plt.cm.coolwarm, edgecolors=\"k\")\n",
    "    \n",
    "axes[1].set_title(\"Poly SVM\")\n",
    "\n",
    "\n",
    "xmin, xmax = plt.xlim()\n",
    "ymin, ymax = plt.ylim()\n",
    "\n",
    "plt.show()\n",
    "\n"
   ]
  },
  {
   "attachments": {},
   "cell_type": "markdown",
   "metadata": {},
   "source": [
    "## Testing the SVMs\n",
    "Using the train-test split of 70-30, find the accuracies for all three SVMs. "
   ]
  },
  {
   "cell_type": "code",
   "execution_count": 486,
   "metadata": {},
   "outputs": [
    {
     "name": "stdout",
     "output_type": "stream",
     "text": [
      "Accuracy using Linear: 0.6888888888888889\n",
      "Accuracy using Poly: 0.6444444444444445\n",
      "Accuracy using RBF: 0.7111111111111111\n"
     ]
    }
   ],
   "source": [
    "# code here\n",
    "from sklearn.metrics import accuracy_score\n",
    "x_train, x_test, y_train, y_test = train_test_split(x, y, test_size = 0.30,random_state=20)\n",
    "\n",
    "Linear_SVM = svm.SVC(kernel=\"linear\",C=0.2)\n",
    "\n",
    "Poly_SVM = svm.SVC(kernel='poly', degree=4, C=1)\n",
    "\n",
    "RBF_SVM = svm.SVC(kernel='rbf', gamma=0.7, C=1) \n",
    "\n",
    "RBF_SVM.fit(x_train, y_train)\n",
    "Linear_SVM.fit(x_train, y_train)\n",
    "Poly_SVM.fit(x_train, y_train)\n",
    "\n",
    "pred1 = Linear_SVM.predict(x_test)\n",
    "pred2 = Poly_SVM.predict(x_test)\n",
    "pred3 = RBF_SVM.predict(x_test)\n",
    "\n",
    "print(\"Accuracy using Linear:\", accuracy_score(pred1, y_test))\n",
    "print(\"Accuracy using Poly:\", accuracy_score(pred2, y_test))\n",
    "print(\"Accuracy using RBF:\", accuracy_score(pred3, y_test))"
   ]
  },
  {
   "attachments": {},
   "cell_type": "markdown",
   "metadata": {},
   "source": [
    "### Question: \n",
    "Which kernel gave the highest accuracy? Why is that the case?\n",
    "### ANSWER here:\n"
   ]
  }
 ],
 "metadata": {
  "kernelspec": {
   "display_name": "Python 3",
   "language": "python",
   "name": "python3"
  },
  "language_info": {
   "codemirror_mode": {
    "name": "ipython",
    "version": 3
   },
   "file_extension": ".py",
   "mimetype": "text/x-python",
   "name": "python",
   "nbconvert_exporter": "python",
   "pygments_lexer": "ipython3",
   "version": "3.10.6"
  },
  "orig_nbformat": 4,
  "vscode": {
   "interpreter": {
    "hash": "8a5edab282632443219e051e4ade2d1d5bbc671c781051bf1437897cbdfea0f1"
   }
  }
 },
 "nbformat": 4,
 "nbformat_minor": 2
}
