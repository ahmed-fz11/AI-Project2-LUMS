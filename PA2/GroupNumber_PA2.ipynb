{
 "cells": [
  {
   "attachments": {},
   "cell_type": "markdown",
   "metadata": {},
   "source": [
    "# Intro to AI (CS331): Project 2\n",
    "#### Name: \n",
    "#### Roll Number: "
   ]
  },
  {
   "cell_type": "code",
   "execution_count": 636,
   "metadata": {},
   "outputs": [],
   "source": [
    "import numpy as np\n",
    "import matplotlib.pyplot as plt\n",
    "import pandas as pd\n",
    "from sklearn import svm, datasets\n",
    "from sklearn.preprocessing import PolynomialFeatures\n",
    "from sklearn.linear_model import LinearRegression\n",
    "from sklearn.model_selection import train_test_split"
   ]
  },
  {
   "attachments": {},
   "cell_type": "markdown",
   "metadata": {},
   "source": [
    "# Regression\n",
    "## Dataset [5 marks]"
   ]
  },
  {
   "attachments": {},
   "cell_type": "markdown",
   "metadata": {},
   "source": [
    "### Loading the Dataset\n",
    "Let's start by loading the dataset. For this part, we will use the `bike_hour.csv`. Load the daataset into a dataframe using the Pandas library."
   ]
  },
  {
   "cell_type": "code",
   "execution_count": 637,
   "metadata": {},
   "outputs": [],
   "source": [
    "# code here\n",
    "bikes_df = pd.read_csv('bike_hour.csv')\n",
    "# print(bikes_df)"
   ]
  },
  {
   "attachments": {},
   "cell_type": "markdown",
   "metadata": {},
   "source": [
    "### Cleaning the Dataset\n",
    "Make sure there are no NaN or null values in the dataset. If there are any, remove those rows."
   ]
  },
  {
   "cell_type": "code",
   "execution_count": 638,
   "metadata": {},
   "outputs": [],
   "source": [
    "# code here\n",
    "bikes_df.dropna(inplace = True)\n",
    "\n",
    "# corr_data=bikes_df.corr()\n",
    "# print(corr_data)\n",
    "# fig=plt.figure()\n",
    "\n",
    "# ax=fig.add_subplot(111)\n",
    "\n",
    "# cax = ax.matshow(corr_data,vmin=1,vmax=1)\n",
    "# fig.colorbar(cax)\n",
    "# # names=[\"instant\",\"dteday\",\"season\",\"yr\",\"mnth\",\"hr\",\"holiday\",\"weekday\",\"workingday\",\"weathersit\",\"temp\",\"atemp\",\"hum\",\"windspeed\",\"casual\",\"registered\",\"cnt\"]\n",
    "\n",
    "# ticks=np.arange(0,15,1)\n",
    "# ax.set_xticks(ticks)\n",
    "# # len(names)\n",
    "# ax.set_yticks(ticks)\n",
    "# # ax.set_xticklabels(names)\n",
    "# # ax.set_yticklabels(names)\n",
    "\n",
    "# plt.show()\n"
   ]
  },
  {
   "attachments": {},
   "cell_type": "markdown",
   "metadata": {},
   "source": [
    "## Polynomial Regression by Least Squares [20 marks]"
   ]
  },
  {
   "attachments": {},
   "cell_type": "markdown",
   "metadata": {},
   "source": [
    "In this part, we are going to use pseudo-inverse, bias error and variance error, to find the best fit equation for our dataset. We are going to make use of the equation:\n",
    "$$\n",
    "    w = (A^TA)^{-1}A^Ty\n",
    "$$\n",
    "We already have our dataset. For this question, we are going to focus on univariate polynomial regression, so lets select on feature from our dataset that we are going to use and split it into training and test datasets."
   ]
  },
  {
   "cell_type": "code",
   "execution_count": 639,
   "metadata": {},
   "outputs": [
    {
     "data": {
      "image/png": "[encoded data removed]",
      "text/plain": [
       "<Figure size 640x480 with 1 Axes>"
      ]
     },
     "metadata": {},
     "output_type": "display_data"
    }
   ],
   "source": [
    "# write the code to extract the number of bikes rented and the \"atemp\" feature from the dataset.\n",
    "# Do a 70 30 split to make test and train datasets.\n",
    "\n",
    "# n = bikes_df['atemp']\n",
    "\n",
    "atemp=bikes_df[['atemp']]\n",
    "numBikes=bikes_df[['cnt']]\n",
    "\n",
    "len_train=int(0.3*len(atemp)+1)\n",
    "len_test=int(0.7*len(atemp))\n",
    "# print(len(atemp))\n",
    "# print(len_train)\n",
    "# print(len_test)\n",
    "\n",
    "\n",
    "atemp_train=atemp[0:len_train]\n",
    "atemp_test=atemp[len_train:]\n",
    "numBikes_train=numBikes[0:len_train]\n",
    "numBikes_test=numBikes[len_train:]\n",
    "\n",
    "# train_df,test_df = train_test_split(bikes_df,test_size=0.3,random_state=0)\n",
    "# numBikes_train = train_df['cnt']\n",
    "# atemp_train = train_df['atemp']\n",
    "# numBikes_test = test_df['cnt']\n",
    "# atemp_test = test_df['atemp']\n",
    "\n",
    "\n",
    "A=atemp_train.to_numpy()\n",
    "B=numBikes_train.to_numpy()\n",
    "A=A.reshape(-1,1)\n",
    "B=B.reshape(-1,1)\n",
    "\n",
    "C=atemp_test.to_numpy()\n",
    "D=numBikes_test.to_numpy()\n",
    "C=C.reshape(-1,1)\n",
    "D=D.reshape(-1,1)\n",
    "\n",
    "A_matrix=np.ones(shape=(len(atemp_train),1))\n",
    "var_A_matrix=np.ones(shape=(len(atemp_test),1))\n",
    "# print(\"First matrix\",A_matrix)\n",
    "bias_list = []\n",
    "variance_list = []\n",
    "\n",
    "for z in range(1,21):\n",
    "    A_matrix=np.hstack((A_matrix,A**z))\n",
    "    var_A_matrix = np.hstack((var_A_matrix,C**z))\n",
    "    # print(A_matrix)\n",
    "\n",
    "    w=np.dot(A_matrix.T,A_matrix)\n",
    "    w=np.linalg.inv(w)\n",
    "    w=np.dot(w,A_matrix.T)\n",
    "    w=np.dot(w,B)\n",
    "    # print(w)\n",
    "    # print(\"iteration\",z,\"\\n\\n\")\n",
    "    y_hat_train = np.dot(A_matrix,w)\n",
    "    bias_error = B-y_hat_train\n",
    "\n",
    "    var_y_hat_train = np.dot(var_A_matrix,w)\n",
    "    var_error = D-var_y_hat_train\n",
    "\n",
    "    sum_bias_square=0\n",
    "    for i in range(len(bias_error)):\n",
    "        sum_bias_square+=(bias_error[i]**2)\n",
    "\n",
    "    mse_bias=0.0\n",
    "    mse_bias=(sum_bias_square)/len(bias_error)\n",
    "    bias_list.append(mse_bias[0])\n",
    "\n",
    "    sum_variance_square=0\n",
    "    for i in range(len(var_error)):\n",
    "        sum_variance_square+=(var_error[i]**2)\n",
    "\n",
    "    mse_variance=0.0\n",
    "    mse_variance=(sum_variance_square)/len(var_error)\n",
    "    variance_list.append(mse_variance[0])\n",
    "\n",
    "\n",
    "\n",
    "\n",
    "    # poly = PolynomialFeatures(degree=z)\n",
    "    # atemp_poly = poly.fit_transform(A)\n",
    "    # poly.fit(A,B)\n",
    "\n",
    "    # model = LinearRegression()\n",
    "    # model.fit(atemp_poly,B)\n",
    "\n",
    "    # y_hat_train = model.predict(poly.fit_transform(A))\n",
    "    # y_hat_test = model.predict(poly.fit_transform(C))\n",
    "\n",
    "    # bias_error=B-y_hat_train\n",
    "    # variance_error = D-y_hat_test\n",
    "    # print(variance_error)\n",
    "\n",
    "    #next lop\n",
    "\n",
    "\n",
    "# print(variance_list)\n",
    "M_list = list(range(1,21))\n",
    "# plt.plot(M_list,bias_list,'-',color='red')\n",
    "plt.plot(M_list,variance_list,'-',color='blue')\n",
    "# # plt.ylim(25000,30000)\n",
    "plt.show()\n",
    "# print(bias_list)\n",
    "\n",
    "\n",
    "\n"
   ]
  },
  {
   "attachments": {},
   "cell_type": "markdown",
   "metadata": {},
   "source": [
    "Now that we have our dataset, use it to make a graph of variance loss (test loss) and bias loss (training loss), using the equation given above. Do this for polynomials 1: ($y = a+bx$) till 20 ($y = a+  bx + cx^2 + ... + ux^{20}$) The reuslting graph you get should resemeble the one shown in the manual."
   ]
  },
  {
   "cell_type": "code",
   "execution_count": 640,
   "metadata": {},
   "outputs": [],
   "source": [
    "# code here"
   ]
  },
  {
   "attachments": {},
   "cell_type": "markdown",
   "metadata": {},
   "source": [
    "QUESTION: Which polynomial is most optimal to use for this dataset? Explain your choice and mention both bias and variance losses for this polynomial. "
   ]
  },
  {
   "attachments": {},
   "cell_type": "markdown",
   "metadata": {},
   "source": [
    "### ANSWER here:\n"
   ]
  },
  {
   "attachments": {},
   "cell_type": "markdown",
   "metadata": {},
   "source": [
    "## Linear Regression by Gradient Descent [15 marks]\n",
    "You are now going to implement linear regression using gradient descent. Unlike in the above part, your regression is now linerar but should work for any number of variables (multivariate liner regression). For this part, start by using the complete dataframe with all teh features instead of just one feature, as we did in the above part. "
   ]
  },
  {
   "cell_type": "code",
   "execution_count": 641,
   "metadata": {},
   "outputs": [],
   "source": [
    "# if you need to load the complete dataframe again or call it again, do so here"
   ]
  },
  {
   "attachments": {},
   "cell_type": "markdown",
   "metadata": {},
   "source": [
    "Let us start by removing any features (columns), which will not be useful for us. From the complete dataframe, remove the columns that you think are not going to be useful for regression. In the markdown cell, **EXPLAIN  your choice** behind removing the columns that you did."
   ]
  },
  {
   "cell_type": "code",
   "execution_count": 642,
   "metadata": {},
   "outputs": [],
   "source": [
    "# code here\n",
    "bikes_df.dropna(inplace = True)\n",
    "\n",
    "bikes_df=bikes_df.drop([\"dteday\",\"holiday\",\"weekday\",\"workingday\",\"weathersit\",\"hum\",\"windspeed\",\"instant\"],axis=1)\n",
    "\n",
    "y_values=bikes_df[['cnt']]\n",
    "\n",
    "bikes_df=bikes_df.drop([\"cnt\"],axis=1)"
   ]
  },
  {
   "attachments": {},
   "cell_type": "markdown",
   "metadata": {},
   "source": [
    "#### ANSWER here: we computed correlations coefficients. those features that had negligible correlation are removed"
   ]
  },
  {
   "attachments": {},
   "cell_type": "markdown",
   "metadata": {},
   "source": [
    "### Splitting the dataset\n",
    "Similar to as you already did, make an 70 30 split to divide the dataset into training and test dataset. If you want, you can use inbuilt libraries for this.\n",
    "Also divide the datasets into features and labels, which will results in 4 variables: X_train, Y_train, X_test, Y_test (you can use different names if you want)"
   ]
  },
  {
   "cell_type": "code",
   "execution_count": 643,
   "metadata": {},
   "outputs": [
    {
     "name": "stdout",
     "output_type": "stream",
     "text": [
      "[[ 1.      0.      1.     ...  0.2879  3.     13.    ]\n",
      " [ 1.      0.      1.     ...  0.2727  8.     32.    ]\n",
      " [ 1.      0.      1.     ...  0.2727  5.     27.    ]\n",
      " ...\n",
      " [ 2.      1.      5.     ...  0.6364 48.     89.    ]\n",
      " [ 2.      1.      5.     ...  0.6212 17.     61.    ]\n",
      " [ 2.      1.      5.     ...  0.6061 16.     45.    ]]\n",
      "[[ 2.      1.      5.     ...  0.6061 11.     25.    ]\n",
      " [ 2.      1.      5.     ...  0.5758  4.      7.    ]\n",
      " [ 2.      1.      5.     ...  0.5758  2.      5.    ]\n",
      " ...\n",
      " [ 1.      1.     12.     ...  0.2576  7.     83.    ]\n",
      " [ 1.      1.     12.     ...  0.2727 13.     48.    ]\n",
      " [ 1.      1.     12.     ...  0.2727 12.     37.    ]]\n",
      "[[ 16]\n",
      " [ 40]\n",
      " [ 32]\n",
      " ...\n",
      " [137]\n",
      " [ 78]\n",
      " [ 61]]\n",
      "[[36]\n",
      " [11]\n",
      " [ 7]\n",
      " ...\n",
      " [90]\n",
      " [61]\n",
      " [49]]\n"
     ]
    }
   ],
   "source": [
    "# code here\n",
    "\n",
    "# training_data_length=int(len(bikes_df)*0.7 + 1)\n",
    "\n",
    "# X_train=bikes_df[:,0:training_data_length]\n",
    "# X_test=bikes_df[:,training_data_length:]\n",
    "# Y_train=y_values[:,0:training_data_length]\n",
    "# Y_test=y_values[:,training_data_length:]\n",
    "\n",
    "len_train=int(0.7*len(bikes_df)+1)\n",
    "len_test=int(0.3*len(bikes_df))\n",
    "\n",
    "\n",
    "\n",
    "X_train=bikes_df[0:len_train]\n",
    "X_test=bikes_df[len_train:]\n",
    "Y_train=y_values[0:len_train]\n",
    "Y_test=y_values[len_train:]\n",
    "# print(X_train)\n",
    "\n",
    "X_train=X_train.to_numpy()\n",
    "X_test=X_test.to_numpy()\n",
    "Y_train=Y_train.to_numpy()\n",
    "Y_test=Y_test.to_numpy()\n",
    "\n",
    "\n",
    "\n",
    "\n",
    "\n",
    "\n",
    "\n",
    "\n",
    "\n",
    "\n",
    "\n",
    "\n",
    "print(X_train)\n",
    "print(X_test)\n",
    "print(Y_train)\n",
    "print(Y_test)\n",
    "\n",
    "\n"
   ]
  },
  {
   "attachments": {},
   "cell_type": "markdown",
   "metadata": {},
   "source": [
    "### Gradient Descent\n",
    "Complete the following functions to run linear regression. \"y_pred\" represents the array of predicted target values that we will get while \"y_true\" represents the array of labels that we are already provided with."
   ]
  },
  {
   "cell_type": "code",
   "execution_count": 644,
   "metadata": {},
   "outputs": [],
   "source": [
    "### Gradient Descent\n",
    "from decimal import Decimal \n",
    "#Complete the following functions to run linear regression. \"y_pred\" represents the array of predicted target values that we will get while \"y_true\" represents the array of labels that we are already provided with.\n",
    "def mean_squared_error(y_pred, y_true): # y_pred is the array of the values we get after we multiply weights with the attributes ( h(x) ), and y_true is an array of true labels\n",
    "    error = y_true-y_pred\n",
    "\n",
    "    sum_error_square=0\n",
    "    for i in range(len(error)):\n",
    "        sum_error_square+=(error[i]**2)\n",
    "\n",
    "    mse=0.0\n",
    "    mse=(sum_error_square)/len(error)\n",
    "    return mse\n",
    "    # code here\n",
    "    \n",
    "\n",
    "\n",
    "def gradient_des(x, thetas, y_pred, y_true, alpha):\n",
    "    n = len(thetas)\n",
    "    error = y_true-y_pred\n",
    "    gradient = -2*(1/n)*np.dot(x.T,error)\n",
    "    thetas = thetas - (alpha*gradient)\n",
    "    new_y_pred = np.dot(x, thetas)\n",
    "    losses = mean_squared_error(new_y_pred,y_true)\n",
    "    return thetas,losses\n",
    "    # code here and return both thetas and the losses\n",
    "    # returning both is important for visualising the losses"
   ]
  },
  {
   "attachments": {},
   "cell_type": "markdown",
   "metadata": {},
   "source": [
    "### Regression\n",
    "For the specified number of epochs, run the regression and store the losses and corresponding thetas for each epoch"
   ]
  },
  {
   "cell_type": "code",
   "execution_count": 645,
   "metadata": {},
   "outputs": [
    {
     "name": "stderr",
     "output_type": "stream",
     "text": [
      "/tmp/ipykernel_2618/3951069594.py:9: RuntimeWarning: overflow encountered in square\n",
      "  sum_error_square+=(error[i]**2)\n"
     ]
    }
   ],
   "source": [
    "\n",
    "epochs = 50  # you are free to play around with this number\n",
    "theta = ... # initialize an np array of zeros based on the shape of the training sample\n",
    "ones_coloumn=np.ones((len(X_train),1))\n",
    "\n",
    "X_train=np.hstack((ones_coloumn,X_train))\n",
    "\n",
    "# print(X_train)\n",
    "theta=np.zeros((len(X_train[0]),1))\n",
    "\n",
    "learning_rate = 0.1\n",
    "\n",
    "losses = []\n",
    "# print(theta.shape)\n",
    "\n",
    "\n",
    "# code here\n",
    "for i in range(epochs):\n",
    "    y_pred= np.dot(X_train,theta)\n",
    "    # print(y_pred.shape)\n",
    "    theta,loss = gradient_des(X_train,theta,y_pred,Y_train,learning_rate)\n",
    "    losses.append(loss)\n"
   ]
  },
  {
   "attachments": {},
   "cell_type": "markdown",
   "metadata": {},
   "source": [
    "### Visualizing the losses\n",
    "You can run the following cell to see how your losses change with each epoch."
   ]
  },
  {
   "cell_type": "code",
   "execution_count": 646,
   "metadata": {},
   "outputs": [
    {
     "data": {
      "image/png": "[encoded data removed]",
      "text/plain": [
       "<Figure size 640x480 with 1 Axes>"
      ]
     },
     "metadata": {},
     "output_type": "display_data"
    }
   ],
   "source": [
    "\n",
    "plt.plot(list(range(len(losses))), losses)\n",
    "plt.title(\"Loss Plot\")\n",
    "plt.xlabel(\"Epochs\")\n",
    "plt.ylabel(\"MSE Loss\")\n",
    "plt.show()\n",
    "\n"
   ]
  },
  {
   "attachments": {},
   "cell_type": "markdown",
   "metadata": {},
   "source": [
    "### Testing the model\n",
    "Now use the final thetas that you got to find the accuracy of the regressor on our test dataset."
   ]
  },
  {
   "cell_type": "code",
   "execution_count": 647,
   "metadata": {},
   "outputs": [],
   "source": [
    "# code here"
   ]
  },
  {
   "attachments": {},
   "cell_type": "markdown",
   "metadata": {},
   "source": [
    "# LOGISTIC REGRESSION"
   ]
  },
  {
   "attachments": {},
   "cell_type": "markdown",
   "metadata": {},
   "source": [
    "## Dataset [5 marks]\n",
    "For this part, we will use the iris dataset provided by sklearn. The dataset library has already been imported in first cell. Use this library to import the iris dataset along with its labels. "
   ]
  },
  {
   "cell_type": "code",
   "execution_count": 648,
   "metadata": {},
   "outputs": [],
   "source": [
    "# code here"
   ]
  },
  {
   "attachments": {},
   "cell_type": "markdown",
   "metadata": {},
   "source": [
    "### Splitting and changing the dataset\n",
    "There are two tasks that you have to perform in this task:\n",
    "1. This dataset contains 3 classes of iris. Irir setosa is linearly seperable from the other two. In you target (labels) array, you have three label values: 0, 1 and 2. Using the information given in the iris dataset, identify which one of these represents Iris Setosa and chage your target values such that instead of having 3 label values, you only have two, where 0 would represent the class Iris Setosa while 1 would mean that the class is not Iris Setosa. \n",
    "2. Now that we have the features and the labels extracted, once again make test and train datasets for logistic regression using a 70 30 split. Make sure that the data is properly shuffled."
   ]
  },
  {
   "cell_type": "code",
   "execution_count": 649,
   "metadata": {},
   "outputs": [],
   "source": [
    "# code here"
   ]
  },
  {
   "attachments": {},
   "cell_type": "markdown",
   "metadata": {},
   "source": [
    "## Logistic Regression by Scratch [15 marks]\n",
    "We are now going to perform logistic regression by scratch on our training dataset. Complete the following functions."
   ]
  },
  {
   "cell_type": "code",
   "execution_count": 650,
   "metadata": {},
   "outputs": [],
   "source": [
    "def binary_cross_entropy_loss(y_pred, y_true):\n",
    "    pass\n",
    "    # code here\n",
    "\n",
    "\n",
    "def sigmoid(x):\n",
    "    pass\n",
    "    # code here\n",
    "\n",
    "\n",
    "def gradient_des(x, thetas, h_x, y, alpha):\n",
    "    pass\n",
    "    # code here and return both thetas and the losses\n",
    "    # returning both is important for visualising the losses\n"
   ]
  },
  {
   "attachments": {},
   "cell_type": "markdown",
   "metadata": {},
   "source": [
    "### Logistic Regression\n",
    "For the specified number of epochs, run the logistic regression and store the losses and corresponding thetas for each epoch"
   ]
  },
  {
   "cell_type": "code",
   "execution_count": 651,
   "metadata": {},
   "outputs": [],
   "source": [
    "epochs = 100  # you are free to play around with this number\n",
    "theta =  ... # initialize an np array of zeros based on the shape of the training sample\n",
    "\n",
    "losses = []\n",
    "\n",
    "# code here\n"
   ]
  },
  {
   "cell_type": "markdown",
   "metadata": {},
   "source": [
    "### Visualizing the losses\n",
    "You can run the following cell to see how your losses change with each epoch."
   ]
  },
  {
   "cell_type": "code",
   "execution_count": 652,
   "metadata": {},
   "outputs": [
    {
     "data": {
      "image/png": "[encoded data removed]",
      "text/plain": [
       "<Figure size 640x480 with 1 Axes>"
      ]
     },
     "metadata": {},
     "output_type": "display_data"
    }
   ],
   "source": [
    "plt.plot(list(range(len(losses))), losses)\n",
    "plt.title(\"Loss against Epochs\")\n",
    "plt.xlabel(\"Epochs\")\n",
    "plt.ylabel(\"Cross Entropy Loss\")\n",
    "plt.show()"
   ]
  },
  {
   "attachments": {},
   "cell_type": "markdown",
   "metadata": {},
   "source": [
    "## K-Fold Cross Validation [15 marks]\n",
    "As you might have noticed, our iris training set is not that big (with only 105 values). To make our model perform better, we are going to implement k-fold cross-validation.\n",
    "\n",
    "In k cross-validation, you divide your training set into k parts and use k-1 of them for training, while one part is used for validation. We then rerun this k times, where each time, a different part from the total of k parts is used for validation. Note that the test data set still remains completely seperate.\n",
    "\n",
    "This will result in you having k different weights (one for each fold). In the end, take na average of all the weights and those will be your final weights."
   ]
  },
  {
   "cell_type": "code",
   "execution_count": 653,
   "metadata": {},
   "outputs": [],
   "source": [
    "k = 5 # we are going to keep k as 5 for this example but your code should not hardocde this value\n",
    "# code here the k-fold cross validation for the iris training dataset"
   ]
  },
  {
   "attachments": {},
   "cell_type": "markdown",
   "metadata": {},
   "source": [
    "Use the final averaged weights on the test data and report the Binary Cross Entroly Loss."
   ]
  },
  {
   "cell_type": "code",
   "execution_count": 654,
   "metadata": {},
   "outputs": [],
   "source": [
    "# code here"
   ]
  },
  {
   "attachments": {},
   "cell_type": "markdown",
   "metadata": {},
   "source": [
    "### Question: \n",
    "Did the cross-validation help in making the model better? Why or why not?\n",
    "\n",
    "### ANSWER here:\n"
   ]
  },
  {
   "attachments": {},
   "cell_type": "markdown",
   "metadata": {},
   "source": [
    "## Logistic Regression using Libraries [5 marks]"
   ]
  },
  {
   "cell_type": "code",
   "execution_count": 655,
   "metadata": {},
   "outputs": [],
   "source": [
    "import sklearn.linear_model as sl\n",
    "from sklearn.metrics import log_loss"
   ]
  },
  {
   "attachments": {},
   "cell_type": "markdown",
   "metadata": {},
   "source": [
    "Now use the above provided libraries to implement [Logistic Regression](https://scikit-learn.org/stable/modules/generated/sklearn.linear_model.LogisticRegression.html) and use the [Cross Entropy Loss](https://scikit-learn.org/stable/modules/generated/sklearn.metrics.log_loss.html) to report loss on the test dataset. "
   ]
  },
  {
   "cell_type": "code",
   "execution_count": 656,
   "metadata": {},
   "outputs": [],
   "source": [
    "# code here"
   ]
  },
  {
   "attachments": {},
   "cell_type": "markdown",
   "metadata": {},
   "source": [
    "# SVMs [20 marks]"
   ]
  },
  {
   "attachments": {},
   "cell_type": "markdown",
   "metadata": {},
   "source": [
    "We are now going to use the SVM library by sklearn on the iris dataset we used for logistic regression. You can either use the same variables, or make a new cell here and import the datset again. However, for the SVM classifier, we are going to extract only the first two features, `Sepal length` and `Sepal width`. "
   ]
  },
  {
   "cell_type": "code",
   "execution_count": 657,
   "metadata": {},
   "outputs": [],
   "source": [
    "# code here to get the iris datset with labels and only the first two features (\"Sepal length\" and \"Sepal width\")\n"
   ]
  },
  {
   "attachments": {},
   "cell_type": "markdown",
   "metadata": {},
   "source": [
    "## Training and Visualisation\n",
    "Train the SVM using the iris dataset and make a plot similar to the one shown in the manual. To make the plot, you are going to have to look into the following functions:\n",
    "- np.meshgrid\n",
    "- plt.scatter\n",
    "- plt.contourf\n",
    "\n",
    "However, you are free to use any functions and libraries that you want to use.\n",
    "\n",
    "Make three different plits for the following three kernels of SVMs: linear, poly, and rbf.\n",
    "You are free to play around with SVM parameters like C (regulization parameter) and gamma."
   ]
  },
  {
   "cell_type": "code",
   "execution_count": 658,
   "metadata": {},
   "outputs": [
    {
     "data": {
      "text/plain": [
       "'\\n1. Use the dataset to train the SVM\\n2. Create a mesh\\n3. Get the predicted values\\n4. Plot the graph\\n'"
      ]
     },
     "execution_count": 658,
     "metadata": {},
     "output_type": "execute_result"
    }
   ],
   "source": [
    "kernels = [\"linear\", \"poly\", \"rbf\"]\n",
    "# code here\n",
    "'''\n",
    "1. Use the dataset to train the SVM\n",
    "2. Create a mesh\n",
    "3. Get the predicted values\n",
    "4. Plot the graph\n",
    "'''"
   ]
  },
  {
   "attachments": {},
   "cell_type": "markdown",
   "metadata": {},
   "source": [
    "## Testing the SVMs\n",
    "Using the train-test split of 70-30, find the accuracies for all three SVMs. "
   ]
  },
  {
   "cell_type": "code",
   "execution_count": 659,
   "metadata": {},
   "outputs": [],
   "source": [
    "# code here"
   ]
  },
  {
   "attachments": {},
   "cell_type": "markdown",
   "metadata": {},
   "source": [
    "### Question: \n",
    "Which kernel gave the highest accuracy? Why is that the case?\n",
    "### ANSWER here:\n"
   ]
  }
 ],
 "metadata": {
  "kernelspec": {
   "display_name": "Python 3",
   "language": "python",
   "name": "python3"
  },
  "language_info": {
   "codemirror_mode": {
    "name": "ipython",
    "version": 3
   },
   "file_extension": ".py",
   "mimetype": "text/x-python",
   "name": "python",
   "nbconvert_exporter": "python",
   "pygments_lexer": "ipython3",
   "version": "3.10.6"
  },
  "orig_nbformat": 4,
  "vscode": {
   "interpreter": {
    "hash": "8a5edab282632443219e051e4ade2d1d5bbc671c781051bf1437897cbdfea0f1"
   }
  }
 },
 "nbformat": 4,
 "nbformat_minor": 2
}
